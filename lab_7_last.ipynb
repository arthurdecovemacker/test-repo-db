{
  "nbformat": 4,
  "nbformat_minor": 0,
  "metadata": {
    "colab": {
      "provenance": [],
      "authorship_tag": "ABX9TyNqiqUlH5U1c/QfkKRHCVDk",
      "include_colab_link": true
    },
    "kernelspec": {
      "name": "python3",
      "display_name": "Python 3"
    },
    "language_info": {
      "name": "python"
    }
  },
  "cells": [
    {
      "cell_type": "markdown",
      "metadata": {
        "id": "view-in-github",
        "colab_type": "text"
      },
      "source": [
        "<a href=\"https://colab.research.google.com/github/arthurdecovemacker/test-repo-db/blob/main/lab_7_last.ipynb\" target=\"_parent\"><img src=\"https://colab.research.google.com/assets/colab-badge.svg\" alt=\"Open In Colab\"/></a>"
      ]
    },
    {
      "cell_type": "code",
      "execution_count": 2,
      "metadata": {
        "id": "PN9ouP5pd4Sj"
      },
      "outputs": [],
      "source": [
        "from sqlalchemy import create_engine\n",
        "my_conn = create_engine(\"sqlite:////content/my_db.db\")"
      ]
    },
    {
      "cell_type": "code",
      "source": [
        "r_set=my_conn.execute('''select name from sqlite_master where type = 'table' ''')\n",
        "for row in r_set:\n",
        "    print(row)"
      ],
      "metadata": {
        "colab": {
          "base_uri": "https://localhost:8080/"
        },
        "id": "PexnhRy2fI9E",
        "outputId": "aa5babdf-b8bd-41b6-9341-6f1a16c30717"
      },
      "execution_count": 3,
      "outputs": [
        {
          "output_type": "stream",
          "name": "stdout",
          "text": [
            "('category',)\n",
            "('subcategory',)\n",
            "('student',)\n"
          ]
        }
      ]
    },
    {
      "cell_type": "code",
      "source": [
        "r_set= my_conn.execute('''SELECT * from student''');\n",
        "for row in r_set:\n",
        "  print(row)"
      ],
      "metadata": {
        "colab": {
          "base_uri": "https://localhost:8080/"
        },
        "id": "rQY0wQ_afo0c",
        "outputId": "9410b24f-6be6-4c77-8708-a81fc2ff970c"
      },
      "execution_count": 4,
      "outputs": [
        {
          "output_type": "stream",
          "name": "stdout",
          "text": [
            "(1, 'John Deo', 'Four', 75, 'female')\n",
            "(2, 'Max Ruin', 'Three', 85, 'male')\n",
            "(3, 'Arnold', 'Three', 55, 'male')\n",
            "(4, 'Krish Star', 'Four', 60, 'female')\n",
            "(5, 'John Mike', 'Four', 60, 'female')\n",
            "(6, 'Alex John', 'Four', 55, 'male')\n",
            "(7, 'My John Rob', 'Five', 78, 'male')\n",
            "(8, 'Asruid', 'Five', 85, 'male')\n",
            "(9, 'Tes Qry', 'Six', 78, 'male')\n",
            "(10, 'Big John', 'Four', 55, 'female')\n",
            "(11, 'Ronald', 'Six', 89, 'female')\n",
            "(12, 'Recky', 'Six', 94, 'female')\n",
            "(13, 'Kty', 'Seven', 88, 'female')\n",
            "(14, 'Bigy', 'Seven', 88, 'female')\n",
            "(15, 'Tade Row', 'Four', 88, 'male')\n",
            "(16, 'Gimmy', 'Four', 88, 'male')\n",
            "(17, 'Tumyu', 'Six', 54, 'male')\n",
            "(18, 'Honny', 'Five', 75, 'male')\n",
            "(19, 'Tinny', 'Nine', 18, 'male')\n",
            "(20, 'Jackly', 'Nine', 65, 'female')\n",
            "(21, 'Babby John', 'Four', 69, 'female')\n",
            "(22, 'Reggid', 'Seven', 55, 'female')\n",
            "(23, 'Herod', 'Eight', 79, 'male')\n",
            "(24, 'Tiddy Now', 'Seven', 78, 'male')\n",
            "(25, 'Giff Tow', 'Seven', 88, 'male')\n",
            "(26, 'Crelea', 'Seven', 79, 'male')\n",
            "(27, 'Big Nose', 'Three', 81, 'female')\n",
            "(28, 'Rojj Base', 'Seven', 86, 'female')\n",
            "(29, 'Tess Played', 'Seven', 55, 'male')\n",
            "(30, 'Reppy Red', 'Six', 79, 'female')\n",
            "(31, 'Marry Toeey', 'Four', 88, 'male')\n",
            "(32, 'Binn Rott', 'Seven', 90, 'female')\n",
            "(33, 'Kenn Rein', 'Six', 96, 'female')\n",
            "(34, 'Gain Toe', 'Seven', 69, 'male')\n",
            "(35, 'Rows Noump', 'Six', 88, 'female')\n"
          ]
        }
      ]
    },
    {
      "cell_type": "code",
      "source": [
        "q=\"SELECT id, name, class, mark, sex FROM student WHERE class='Four'\"\n",
        "my_cursor=my_conn.execute(q)\n",
        "for row in my_cursor:\n",
        "  print(row)"
      ],
      "metadata": {
        "colab": {
          "base_uri": "https://localhost:8080/"
        },
        "id": "vx-23nlwhYb7",
        "outputId": "27bb7768-2878-437a-822a-871cad0ac9d6"
      },
      "execution_count": 5,
      "outputs": [
        {
          "output_type": "stream",
          "name": "stdout",
          "text": [
            "(1, 'John Deo', 'Four', 75, 'female')\n",
            "(4, 'Krish Star', 'Four', 60, 'female')\n",
            "(5, 'John Mike', 'Four', 60, 'female')\n",
            "(6, 'Alex John', 'Four', 55, 'male')\n",
            "(10, 'Big John', 'Four', 55, 'female')\n",
            "(15, 'Tade Row', 'Four', 88, 'male')\n",
            "(16, 'Gimmy', 'Four', 88, 'male')\n",
            "(21, 'Babby John', 'Four', 69, 'female')\n",
            "(31, 'Marry Toeey', 'Four', 88, 'male')\n"
          ]
        }
      ]
    },
    {
      "cell_type": "code",
      "source": [
        "q=\"SELECT id, name, class, mark, sex FROM student WHERE id=8\"\n",
        "my_cursor=my_conn.execute(q)\n",
        "data_row=my_cursor.fetchone()\n",
        "print(data_row[0], data_row[1], data_row[3])"
      ],
      "metadata": {
        "colab": {
          "base_uri": "https://localhost:8080/"
        },
        "id": "Eg5kxEd0jHZ-",
        "outputId": "3a9fef64-8ff1-47a8-ad5a-279faa7e1b9f"
      },
      "execution_count": 6,
      "outputs": [
        {
          "output_type": "stream",
          "name": "stdout",
          "text": [
            "8 Asruid 85\n"
          ]
        }
      ]
    },
    {
      "cell_type": "code",
      "source": [
        "q=\"SELECT id, name, class, mark, sex FROM student limit 0,10\"\n",
        "my_cursor=my_conn.execute(q)\n",
        "data_row=my_cursor.fetchall()\n",
        "print(type(data_row))\n",
        "print(\"No of records :\", len(data_row))\n",
        "for row in data_row:\n",
        "  print(row)"
      ],
      "metadata": {
        "colab": {
          "base_uri": "https://localhost:8080/"
        },
        "id": "qbNiONmDjqIz",
        "outputId": "ce9efd17-8fb2-4612-f449-ed8a03e6deaf"
      },
      "execution_count": 7,
      "outputs": [
        {
          "output_type": "stream",
          "name": "stdout",
          "text": [
            "<class 'list'>\n",
            "No of records : 10\n",
            "(1, 'John Deo', 'Four', 75, 'female')\n",
            "(2, 'Max Ruin', 'Three', 85, 'male')\n",
            "(3, 'Arnold', 'Three', 55, 'male')\n",
            "(4, 'Krish Star', 'Four', 60, 'female')\n",
            "(5, 'John Mike', 'Four', 60, 'female')\n",
            "(6, 'Alex John', 'Four', 55, 'male')\n",
            "(7, 'My John Rob', 'Five', 78, 'male')\n",
            "(8, 'Asruid', 'Five', 85, 'male')\n",
            "(9, 'Tes Qry', 'Six', 78, 'male')\n",
            "(10, 'Big John', 'Four', 55, 'female')\n"
          ]
        },
        {
          "output_type": "stream",
          "name": "stderr",
          "text": [
            "ERROR:sqlalchemy.pool.impl.NullPool:Exception during reset or similar\n",
            "Traceback (most recent call last):\n",
            "  File \"/usr/local/lib/python3.7/dist-packages/sqlalchemy/pool/base.py\", line 753, in _finalize_fairy\n",
            "    fairy._reset(pool)\n",
            "  File \"/usr/local/lib/python3.7/dist-packages/sqlalchemy/pool/base.py\", line 1004, in _reset\n",
            "    pool._dialect.do_rollback(self)\n",
            "  File \"/usr/local/lib/python3.7/dist-packages/sqlalchemy/engine/default.py\", line 683, in do_rollback\n",
            "    dbapi_connection.rollback()\n",
            "sqlite3.ProgrammingError: SQLite objects created in a thread can only be used in that same thread. The object was created in thread id 140121789523840 and this is thread id 140121366992640.\n",
            "ERROR:sqlalchemy.pool.impl.NullPool:Exception closing connection <sqlite3.Connection object at 0x7f708a8fcd50>\n",
            "Traceback (most recent call last):\n",
            "  File \"/usr/local/lib/python3.7/dist-packages/sqlalchemy/pool/base.py\", line 753, in _finalize_fairy\n",
            "    fairy._reset(pool)\n",
            "  File \"/usr/local/lib/python3.7/dist-packages/sqlalchemy/pool/base.py\", line 1004, in _reset\n",
            "    pool._dialect.do_rollback(self)\n",
            "  File \"/usr/local/lib/python3.7/dist-packages/sqlalchemy/engine/default.py\", line 683, in do_rollback\n",
            "    dbapi_connection.rollback()\n",
            "sqlite3.ProgrammingError: SQLite objects created in a thread can only be used in that same thread. The object was created in thread id 140121789523840 and this is thread id 140121366992640.\n",
            "\n",
            "During handling of the above exception, another exception occurred:\n",
            "\n",
            "Traceback (most recent call last):\n",
            "  File \"/usr/local/lib/python3.7/dist-packages/sqlalchemy/pool/base.py\", line 255, in _close_connection\n",
            "    self._dialect.do_terminate(connection)\n",
            "  File \"/usr/local/lib/python3.7/dist-packages/sqlalchemy/engine/default.py\", line 689, in do_terminate\n",
            "    self.do_close(dbapi_connection)\n",
            "  File \"/usr/local/lib/python3.7/dist-packages/sqlalchemy/engine/default.py\", line 692, in do_close\n",
            "    dbapi_connection.close()\n",
            "sqlite3.ProgrammingError: SQLite objects created in a thread can only be used in that same thread. The object was created in thread id 140121789523840 and this is thread id 140121366992640.\n"
          ]
        }
      ]
    },
    {
      "cell_type": "code",
      "source": [
        "q=\"SELECT id, name, class, mark, sex FROM student WHERE class='Four' \"\n",
        "my_cursor=my_conn.execute(q)\n",
        "data_row=my_cursor.fetchall()\n",
        "print(type(data_row))\n",
        "print(\"No of records : \", len(data_row))\n",
        "print(row)"
      ],
      "metadata": {
        "colab": {
          "base_uri": "https://localhost:8080/"
        },
        "id": "BcmQojhGlY9v",
        "outputId": "c13052e1-8ecd-4372-a8bb-9e3bd2bfb116"
      },
      "execution_count": 8,
      "outputs": [
        {
          "output_type": "stream",
          "name": "stdout",
          "text": [
            "<class 'list'>\n",
            "No of records :  9\n",
            "(10, 'Big John', 'Four', 55, 'female')\n"
          ]
        }
      ]
    },
    {
      "cell_type": "code",
      "source": [
        "from sqlalchemy import create_engine\n",
        "my_conn = create_engine(\"sqlite:////content/my_db1.db\")"
      ],
      "metadata": {
        "id": "sOwguz00ovSG"
      },
      "execution_count": 10,
      "outputs": []
    },
    {
      "cell_type": "code",
      "source": [
        "conn = my_conn.connect()"
      ],
      "metadata": {
        "id": "JLGfVPwTrO1l"
      },
      "execution_count": 11,
      "outputs": []
    }
  ]
}